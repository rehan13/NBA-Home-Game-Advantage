{
 "cells": [
  {
   "cell_type": "markdown",
   "id": "2dee91fb-7d31-4e47-958f-12cd390c3902",
   "metadata": {},
   "source": [
    "# <center>Is home court advantage real?\n",
    "#### <center> By: Radman Avakoli, Yao(Chengyuan) Yao, Rehan Mondal , Parham Alijani\n",
    "\n"
   ]
  },
  {
   "cell_type": "markdown",
   "id": "d385b412-f615-46bc-96af-9526a0341b56",
   "metadata": {},
   "source": [
    "## <center> Introduction"
   ]
  },
  {
   "cell_type": "markdown",
   "id": "45ad3b52-66c6-4723-a34b-9c38f3a20c6f",
   "metadata": {},
   "source": [
    "Home court advantage in sports is the idea of having a slight edge over your opponent due to playing on your home floor, whether this may be because of comfort of the hardwood and rims, or the comfort of sleeping the night before in your own home and driving your own car to the arena throughout the same highway you take everyday, or simply psychological effects. In the NBA (National Basketball Association), a controversial topic has been regarding home court advantage and whether or not teams are impacted by it. Teams play 50% of their regular season games at home, and those who qualify to the playoffs play multiple best of 7 series where the team with the higher seed (better Win-Loss Record) will have 4 out of the 7 games on their home court. \n",
    "\n",
    "The question that we will try to answer is, does home court advantage truly exist? Using a representative sample created from the NBA stats website that contains information about NBA games since 2004, we will make inferences on future NBA matches with the same rules and showcase whether or not the home team has an advantage. To do this, we will compare the proportion of wins at home vs away with our sample, and make a conclusion on whether or not the proportion of wins at home is significant enough for us to fail to reject the null hypothesis.\n"
   ]
  },
  {
   "cell_type": "markdown",
   "id": "f0e155f2-9faa-4de4-a4b2-e19f8b2a6adb",
   "metadata": {},
   "source": [
    "## <center> Preliminary Data"
   ]
  },
  {
   "cell_type": "code",
   "execution_count": 1,
   "id": "16a0a798-1c38-4ca9-ad7c-019620ab9a5f",
   "metadata": {},
   "outputs": [
    {
     "name": "stderr",
     "output_type": "stream",
     "text": [
      "── \u001b[1mAttaching packages\u001b[22m ─────────────────────────────────────── tidyverse 1.3.0 ──\n",
      "\n",
      "\u001b[32m✔\u001b[39m \u001b[34mggplot2\u001b[39m 3.3.6     \u001b[32m✔\u001b[39m \u001b[34mpurrr  \u001b[39m 0.3.4\n",
      "\u001b[32m✔\u001b[39m \u001b[34mtibble \u001b[39m 3.1.7     \u001b[32m✔\u001b[39m \u001b[34mdplyr  \u001b[39m 1.0.9\n",
      "\u001b[32m✔\u001b[39m \u001b[34mtidyr  \u001b[39m 1.2.0     \u001b[32m✔\u001b[39m \u001b[34mstringr\u001b[39m 1.4.0\n",
      "\u001b[32m✔\u001b[39m \u001b[34mreadr  \u001b[39m 2.1.2     \u001b[32m✔\u001b[39m \u001b[34mforcats\u001b[39m 0.5.1\n",
      "\n",
      "── \u001b[1mConflicts\u001b[22m ────────────────────────────────────────── tidyverse_conflicts() ──\n",
      "\u001b[31m✖\u001b[39m \u001b[34mdplyr\u001b[39m::\u001b[32mfilter()\u001b[39m masks \u001b[34mstats\u001b[39m::filter()\n",
      "\u001b[31m✖\u001b[39m \u001b[34mdplyr\u001b[39m::\u001b[32mlag()\u001b[39m    masks \u001b[34mstats\u001b[39m::lag()\n",
      "\n"
     ]
    }
   ],
   "source": [
    "# loading libraries\n",
    "library(infer)\n",
    "library(repr)\n",
    "library(tidyverse)\n",
    "library(rsample)"
   ]
  },
  {
   "cell_type": "code",
   "execution_count": 2,
   "id": "c227d6bf-d441-4890-bed0-a962f382e161",
   "metadata": {},
   "outputs": [
    {
     "name": "stderr",
     "output_type": "stream",
     "text": [
      "\u001b[1mRows: \u001b[22m\u001b[34m25796\u001b[39m \u001b[1mColumns: \u001b[22m\u001b[34m21\u001b[39m\n",
      "\u001b[36m──\u001b[39m \u001b[1mColumn specification\u001b[22m \u001b[36m────────────────────────────────────────────────────────\u001b[39m\n",
      "\u001b[1mDelimiter:\u001b[22m \",\"\n",
      "\u001b[31mchr\u001b[39m   (1): GAME_STATUS_TEXT\n",
      "\u001b[32mdbl\u001b[39m  (19): GAME_ID, HOME_TEAM_ID, VISITOR_TEAM_ID, SEASON, TEAM_ID_home, PTS...\n",
      "\u001b[34mdate\u001b[39m  (1): GAME_DATE_EST\n",
      "\n",
      "\u001b[36mℹ\u001b[39m Use `spec()` to retrieve the full column specification for this data.\n",
      "\u001b[36mℹ\u001b[39m Specify the column types or set `show_col_types = FALSE` to quiet this message.\n"
     ]
    },
    {
     "data": {
      "text/html": [
       "<table class=\"dataframe\">\n",
       "<caption>A data.frame: 4 × 21</caption>\n",
       "<thead>\n",
       "\t<tr><th></th><th scope=col>GAME_DATE_EST</th><th scope=col>GAME_ID</th><th scope=col>GAME_STATUS_TEXT</th><th scope=col>HOME_TEAM_ID</th><th scope=col>VISITOR_TEAM_ID</th><th scope=col>SEASON</th><th scope=col>TEAM_ID_home</th><th scope=col>PTS_home</th><th scope=col>FG_PCT_home</th><th scope=col>FT_PCT_home</th><th scope=col>⋯</th><th scope=col>AST_home</th><th scope=col>REB_home</th><th scope=col>TEAM_ID_away</th><th scope=col>PTS_away</th><th scope=col>FG_PCT_away</th><th scope=col>FT_PCT_away</th><th scope=col>FG3_PCT_away</th><th scope=col>AST_away</th><th scope=col>REB_away</th><th scope=col>HOME_TEAM_WINS</th></tr>\n",
       "\t<tr><th></th><th scope=col>&lt;date&gt;</th><th scope=col>&lt;dbl&gt;</th><th scope=col>&lt;chr&gt;</th><th scope=col>&lt;dbl&gt;</th><th scope=col>&lt;dbl&gt;</th><th scope=col>&lt;dbl&gt;</th><th scope=col>&lt;dbl&gt;</th><th scope=col>&lt;dbl&gt;</th><th scope=col>&lt;dbl&gt;</th><th scope=col>&lt;dbl&gt;</th><th scope=col>⋯</th><th scope=col>&lt;dbl&gt;</th><th scope=col>&lt;dbl&gt;</th><th scope=col>&lt;dbl&gt;</th><th scope=col>&lt;dbl&gt;</th><th scope=col>&lt;dbl&gt;</th><th scope=col>&lt;dbl&gt;</th><th scope=col>&lt;dbl&gt;</th><th scope=col>&lt;dbl&gt;</th><th scope=col>&lt;dbl&gt;</th><th scope=col>&lt;dbl&gt;</th></tr>\n",
       "</thead>\n",
       "<tbody>\n",
       "\t<tr><th scope=row>1</th><td>2022-03-12</td><td>22101005</td><td>Final</td><td>1610612748</td><td>1610612750</td><td>2021</td><td>1610612748</td><td>104</td><td>0.398</td><td>0.760</td><td>⋯</td><td>23</td><td>53</td><td>1610612750</td><td>113</td><td>0.422</td><td>0.875</td><td>0.357</td><td>21</td><td>46</td><td>0</td></tr>\n",
       "\t<tr><th scope=row>2</th><td>2022-03-12</td><td>22101006</td><td>Final</td><td>1610612741</td><td>1610612739</td><td>2021</td><td>1610612741</td><td>101</td><td>0.443</td><td>0.933</td><td>⋯</td><td>20</td><td>46</td><td>1610612739</td><td> 91</td><td>0.419</td><td>0.824</td><td>0.208</td><td>19</td><td>40</td><td>1</td></tr>\n",
       "\t<tr><th scope=row>3</th><td>2022-03-12</td><td>22101007</td><td>Final</td><td>1610612759</td><td>1610612754</td><td>2021</td><td>1610612759</td><td>108</td><td>0.412</td><td>0.813</td><td>⋯</td><td>28</td><td>52</td><td>1610612754</td><td>119</td><td>0.489</td><td>1.000</td><td>0.389</td><td>23</td><td>47</td><td>0</td></tr>\n",
       "\t<tr><th scope=row>4</th><td>2022-03-12</td><td>22101008</td><td>Final</td><td>1610612744</td><td>1610612749</td><td>2021</td><td>1610612744</td><td>122</td><td>0.484</td><td>0.933</td><td>⋯</td><td>33</td><td>55</td><td>1610612749</td><td>109</td><td>0.413</td><td>0.696</td><td>0.386</td><td>27</td><td>39</td><td>1</td></tr>\n",
       "</tbody>\n",
       "</table>\n"
      ],
      "text/latex": [
       "A data.frame: 4 × 21\n",
       "\\begin{tabular}{r|lllllllllllllllllllll}\n",
       "  & GAME\\_DATE\\_EST & GAME\\_ID & GAME\\_STATUS\\_TEXT & HOME\\_TEAM\\_ID & VISITOR\\_TEAM\\_ID & SEASON & TEAM\\_ID\\_home & PTS\\_home & FG\\_PCT\\_home & FT\\_PCT\\_home & ⋯ & AST\\_home & REB\\_home & TEAM\\_ID\\_away & PTS\\_away & FG\\_PCT\\_away & FT\\_PCT\\_away & FG3\\_PCT\\_away & AST\\_away & REB\\_away & HOME\\_TEAM\\_WINS\\\\\n",
       "  & <date> & <dbl> & <chr> & <dbl> & <dbl> & <dbl> & <dbl> & <dbl> & <dbl> & <dbl> & ⋯ & <dbl> & <dbl> & <dbl> & <dbl> & <dbl> & <dbl> & <dbl> & <dbl> & <dbl> & <dbl>\\\\\n",
       "\\hline\n",
       "\t1 & 2022-03-12 & 22101005 & Final & 1610612748 & 1610612750 & 2021 & 1610612748 & 104 & 0.398 & 0.760 & ⋯ & 23 & 53 & 1610612750 & 113 & 0.422 & 0.875 & 0.357 & 21 & 46 & 0\\\\\n",
       "\t2 & 2022-03-12 & 22101006 & Final & 1610612741 & 1610612739 & 2021 & 1610612741 & 101 & 0.443 & 0.933 & ⋯ & 20 & 46 & 1610612739 &  91 & 0.419 & 0.824 & 0.208 & 19 & 40 & 1\\\\\n",
       "\t3 & 2022-03-12 & 22101007 & Final & 1610612759 & 1610612754 & 2021 & 1610612759 & 108 & 0.412 & 0.813 & ⋯ & 28 & 52 & 1610612754 & 119 & 0.489 & 1.000 & 0.389 & 23 & 47 & 0\\\\\n",
       "\t4 & 2022-03-12 & 22101008 & Final & 1610612744 & 1610612749 & 2021 & 1610612744 & 122 & 0.484 & 0.933 & ⋯ & 33 & 55 & 1610612749 & 109 & 0.413 & 0.696 & 0.386 & 27 & 39 & 1\\\\\n",
       "\\end{tabular}\n"
      ],
      "text/markdown": [
       "\n",
       "A data.frame: 4 × 21\n",
       "\n",
       "| <!--/--> | GAME_DATE_EST &lt;date&gt; | GAME_ID &lt;dbl&gt; | GAME_STATUS_TEXT &lt;chr&gt; | HOME_TEAM_ID &lt;dbl&gt; | VISITOR_TEAM_ID &lt;dbl&gt; | SEASON &lt;dbl&gt; | TEAM_ID_home &lt;dbl&gt; | PTS_home &lt;dbl&gt; | FG_PCT_home &lt;dbl&gt; | FT_PCT_home &lt;dbl&gt; | ⋯ ⋯ | AST_home &lt;dbl&gt; | REB_home &lt;dbl&gt; | TEAM_ID_away &lt;dbl&gt; | PTS_away &lt;dbl&gt; | FG_PCT_away &lt;dbl&gt; | FT_PCT_away &lt;dbl&gt; | FG3_PCT_away &lt;dbl&gt; | AST_away &lt;dbl&gt; | REB_away &lt;dbl&gt; | HOME_TEAM_WINS &lt;dbl&gt; |\n",
       "|---|---|---|---|---|---|---|---|---|---|---|---|---|---|---|---|---|---|---|---|---|---|\n",
       "| 1 | 2022-03-12 | 22101005 | Final | 1610612748 | 1610612750 | 2021 | 1610612748 | 104 | 0.398 | 0.760 | ⋯ | 23 | 53 | 1610612750 | 113 | 0.422 | 0.875 | 0.357 | 21 | 46 | 0 |\n",
       "| 2 | 2022-03-12 | 22101006 | Final | 1610612741 | 1610612739 | 2021 | 1610612741 | 101 | 0.443 | 0.933 | ⋯ | 20 | 46 | 1610612739 |  91 | 0.419 | 0.824 | 0.208 | 19 | 40 | 1 |\n",
       "| 3 | 2022-03-12 | 22101007 | Final | 1610612759 | 1610612754 | 2021 | 1610612759 | 108 | 0.412 | 0.813 | ⋯ | 28 | 52 | 1610612754 | 119 | 0.489 | 1.000 | 0.389 | 23 | 47 | 0 |\n",
       "| 4 | 2022-03-12 | 22101008 | Final | 1610612744 | 1610612749 | 2021 | 1610612744 | 122 | 0.484 | 0.933 | ⋯ | 33 | 55 | 1610612749 | 109 | 0.413 | 0.696 | 0.386 | 27 | 39 | 1 |\n",
       "\n"
      ],
      "text/plain": [
       "  GAME_DATE_EST GAME_ID  GAME_STATUS_TEXT HOME_TEAM_ID VISITOR_TEAM_ID SEASON\n",
       "1 2022-03-12    22101005 Final            1610612748   1610612750      2021  \n",
       "2 2022-03-12    22101006 Final            1610612741   1610612739      2021  \n",
       "3 2022-03-12    22101007 Final            1610612759   1610612754      2021  \n",
       "4 2022-03-12    22101008 Final            1610612744   1610612749      2021  \n",
       "  TEAM_ID_home PTS_home FG_PCT_home FT_PCT_home ⋯ AST_home REB_home\n",
       "1 1610612748   104      0.398       0.760       ⋯ 23       53      \n",
       "2 1610612741   101      0.443       0.933       ⋯ 20       46      \n",
       "3 1610612759   108      0.412       0.813       ⋯ 28       52      \n",
       "4 1610612744   122      0.484       0.933       ⋯ 33       55      \n",
       "  TEAM_ID_away PTS_away FG_PCT_away FT_PCT_away FG3_PCT_away AST_away REB_away\n",
       "1 1610612750   113      0.422       0.875       0.357        21       46      \n",
       "2 1610612739    91      0.419       0.824       0.208        19       40      \n",
       "3 1610612754   119      0.489       1.000       0.389        23       47      \n",
       "4 1610612749   109      0.413       0.696       0.386        27       39      \n",
       "  HOME_TEAM_WINS\n",
       "1 0             \n",
       "2 1             \n",
       "3 0             \n",
       "4 1             "
      ]
     },
     "metadata": {},
     "output_type": "display_data"
    },
    {
     "data": {
      "text/html": [
       "<style>\n",
       ".list-inline {list-style: none; margin:0; padding: 0}\n",
       ".list-inline>li {display: inline-block}\n",
       ".list-inline>li:not(:last-child)::after {content: \"\\00b7\"; padding: 0 .5ex}\n",
       "</style>\n",
       "<ol class=list-inline><li>'GAME_DATE_EST'</li><li>'GAME_ID'</li><li>'GAME_STATUS_TEXT'</li><li>'HOME_TEAM_ID'</li><li>'VISITOR_TEAM_ID'</li><li>'SEASON'</li><li>'TEAM_ID_home'</li><li>'PTS_home'</li><li>'FG_PCT_home'</li><li>'FT_PCT_home'</li><li>'FG3_PCT_home'</li><li>'AST_home'</li><li>'REB_home'</li><li>'TEAM_ID_away'</li><li>'PTS_away'</li><li>'FG_PCT_away'</li><li>'FT_PCT_away'</li><li>'FG3_PCT_away'</li><li>'AST_away'</li><li>'REB_away'</li><li>'HOME_TEAM_WINS'</li></ol>\n"
      ],
      "text/latex": [
       "\\begin{enumerate*}\n",
       "\\item 'GAME\\_DATE\\_EST'\n",
       "\\item 'GAME\\_ID'\n",
       "\\item 'GAME\\_STATUS\\_TEXT'\n",
       "\\item 'HOME\\_TEAM\\_ID'\n",
       "\\item 'VISITOR\\_TEAM\\_ID'\n",
       "\\item 'SEASON'\n",
       "\\item 'TEAM\\_ID\\_home'\n",
       "\\item 'PTS\\_home'\n",
       "\\item 'FG\\_PCT\\_home'\n",
       "\\item 'FT\\_PCT\\_home'\n",
       "\\item 'FG3\\_PCT\\_home'\n",
       "\\item 'AST\\_home'\n",
       "\\item 'REB\\_home'\n",
       "\\item 'TEAM\\_ID\\_away'\n",
       "\\item 'PTS\\_away'\n",
       "\\item 'FG\\_PCT\\_away'\n",
       "\\item 'FT\\_PCT\\_away'\n",
       "\\item 'FG3\\_PCT\\_away'\n",
       "\\item 'AST\\_away'\n",
       "\\item 'REB\\_away'\n",
       "\\item 'HOME\\_TEAM\\_WINS'\n",
       "\\end{enumerate*}\n"
      ],
      "text/markdown": [
       "1. 'GAME_DATE_EST'\n",
       "2. 'GAME_ID'\n",
       "3. 'GAME_STATUS_TEXT'\n",
       "4. 'HOME_TEAM_ID'\n",
       "5. 'VISITOR_TEAM_ID'\n",
       "6. 'SEASON'\n",
       "7. 'TEAM_ID_home'\n",
       "8. 'PTS_home'\n",
       "9. 'FG_PCT_home'\n",
       "10. 'FT_PCT_home'\n",
       "11. 'FG3_PCT_home'\n",
       "12. 'AST_home'\n",
       "13. 'REB_home'\n",
       "14. 'TEAM_ID_away'\n",
       "15. 'PTS_away'\n",
       "16. 'FG_PCT_away'\n",
       "17. 'FT_PCT_away'\n",
       "18. 'FG3_PCT_away'\n",
       "19. 'AST_away'\n",
       "20. 'REB_away'\n",
       "21. 'HOME_TEAM_WINS'\n",
       "\n",
       "\n"
      ],
      "text/plain": [
       " [1] \"GAME_DATE_EST\"    \"GAME_ID\"          \"GAME_STATUS_TEXT\" \"HOME_TEAM_ID\"    \n",
       " [5] \"VISITOR_TEAM_ID\"  \"SEASON\"           \"TEAM_ID_home\"     \"PTS_home\"        \n",
       " [9] \"FG_PCT_home\"      \"FT_PCT_home\"      \"FG3_PCT_home\"     \"AST_home\"        \n",
       "[13] \"REB_home\"         \"TEAM_ID_away\"     \"PTS_away\"         \"FG_PCT_away\"     \n",
       "[17] \"FT_PCT_away\"      \"FG3_PCT_away\"     \"AST_away\"         \"REB_away\"        \n",
       "[21] \"HOME_TEAM_WINS\"  "
      ]
     },
     "metadata": {},
     "output_type": "display_data"
    },
    {
     "data": {
      "text/html": [
       "25796"
      ],
      "text/latex": [
       "25796"
      ],
      "text/markdown": [
       "25796"
      ],
      "text/plain": [
       "[1] 25796"
      ]
     },
     "metadata": {},
     "output_type": "display_data"
    }
   ],
   "source": [
    "# reading data and converting it to a dataframe\n",
    "games <- read_csv(\"https://raw.githubusercontent.com/rehan13/STAT-201-PROJECT/main/games.csv\") %>% \n",
    "    as.data.frame()\n",
    "head(games, 4)\n",
    "colnames(games)\n",
    "games %>% nrow()"
   ]
  },
  {
   "cell_type": "markdown",
   "id": "010545af-35ec-4df5-bd79-ee7081d825fc",
   "metadata": {},
   "source": [
    "__Data Wrangling:__\n",
    "We are interested in 2 dataframes:\n",
    "* A dataframe with columns type (\"home\" or \"away\") and win (\"1\" for win, \"0\" for loss) to make inference about winning proportion\n",
    "* A dataframe with column point difference (home team points - away team points) to make inference about the mean of score difference (i.e. by how much does the home team wins or loses)"
   ]
  },
  {
   "cell_type": "code",
   "execution_count": 3,
   "id": "89e03548-bad4-4e75-b38c-8201846b07b1",
   "metadata": {},
   "outputs": [
    {
     "data": {
      "text/html": [
       "<table class=\"dataframe\">\n",
       "<caption>A data.frame: 4 × 2</caption>\n",
       "<thead>\n",
       "\t<tr><th></th><th scope=col>type</th><th scope=col>win</th></tr>\n",
       "\t<tr><th></th><th scope=col>&lt;chr&gt;</th><th scope=col>&lt;chr&gt;</th></tr>\n",
       "</thead>\n",
       "<tbody>\n",
       "\t<tr><th scope=row>1</th><td>home</td><td>0</td></tr>\n",
       "\t<tr><th scope=row>2</th><td>home</td><td>1</td></tr>\n",
       "\t<tr><th scope=row>3</th><td>home</td><td>0</td></tr>\n",
       "\t<tr><th scope=row>4</th><td>home</td><td>1</td></tr>\n",
       "</tbody>\n",
       "</table>\n"
      ],
      "text/latex": [
       "A data.frame: 4 × 2\n",
       "\\begin{tabular}{r|ll}\n",
       "  & type & win\\\\\n",
       "  & <chr> & <chr>\\\\\n",
       "\\hline\n",
       "\t1 & home & 0\\\\\n",
       "\t2 & home & 1\\\\\n",
       "\t3 & home & 0\\\\\n",
       "\t4 & home & 1\\\\\n",
       "\\end{tabular}\n"
      ],
      "text/markdown": [
       "\n",
       "A data.frame: 4 × 2\n",
       "\n",
       "| <!--/--> | type &lt;chr&gt; | win &lt;chr&gt; |\n",
       "|---|---|---|\n",
       "| 1 | home | 0 |\n",
       "| 2 | home | 1 |\n",
       "| 3 | home | 0 |\n",
       "| 4 | home | 1 |\n",
       "\n"
      ],
      "text/plain": [
       "  type win\n",
       "1 home 0  \n",
       "2 home 1  \n",
       "3 home 0  \n",
       "4 home 1  "
      ]
     },
     "metadata": {},
     "output_type": "display_data"
    }
   ],
   "source": [
    "## Dataframe 1: obtain columns of interest for calculating proportion of winning when home vs away\n",
    "# Storing game winning status for every game being the home team\n",
    "home_games <- games %>%\n",
    "    summarize(type = \"home\", win = as.character(HOME_TEAM_WINS))\n",
    "\n",
    "# Storing game winning status for every game being the away team\n",
    "away_games <- games %>%\n",
    "    summarize(type = \"away\", win = as.character(abs(1-HOME_TEAM_WINS)))\n",
    "\n",
    "# Combining all home and away game observations\n",
    "sample_for_prop <- rbind(home_games, away_games)\n",
    "\n",
    "# Observing our dataframe\n",
    "head(sample_for_prop, 4)"
   ]
  },
  {
   "cell_type": "code",
   "execution_count": 4,
   "id": "bbb280db-8fd8-4bb4-b450-c82021e3d870",
   "metadata": {},
   "outputs": [
    {
     "data": {
      "text/html": [
       "<table class=\"dataframe\">\n",
       "<caption>A data.frame: 4 × 3</caption>\n",
       "<thead>\n",
       "\t<tr><th></th><th scope=col>PTS_home</th><th scope=col>PTS_away</th><th scope=col>point_diff</th></tr>\n",
       "\t<tr><th></th><th scope=col>&lt;dbl&gt;</th><th scope=col>&lt;dbl&gt;</th><th scope=col>&lt;dbl&gt;</th></tr>\n",
       "</thead>\n",
       "<tbody>\n",
       "\t<tr><th scope=row>1</th><td>104</td><td>113</td><td> -9</td></tr>\n",
       "\t<tr><th scope=row>2</th><td>101</td><td> 91</td><td> 10</td></tr>\n",
       "\t<tr><th scope=row>3</th><td>108</td><td>119</td><td>-11</td></tr>\n",
       "\t<tr><th scope=row>4</th><td>122</td><td>109</td><td> 13</td></tr>\n",
       "</tbody>\n",
       "</table>\n"
      ],
      "text/latex": [
       "A data.frame: 4 × 3\n",
       "\\begin{tabular}{r|lll}\n",
       "  & PTS\\_home & PTS\\_away & point\\_diff\\\\\n",
       "  & <dbl> & <dbl> & <dbl>\\\\\n",
       "\\hline\n",
       "\t1 & 104 & 113 &  -9\\\\\n",
       "\t2 & 101 &  91 &  10\\\\\n",
       "\t3 & 108 & 119 & -11\\\\\n",
       "\t4 & 122 & 109 &  13\\\\\n",
       "\\end{tabular}\n"
      ],
      "text/markdown": [
       "\n",
       "A data.frame: 4 × 3\n",
       "\n",
       "| <!--/--> | PTS_home &lt;dbl&gt; | PTS_away &lt;dbl&gt; | point_diff &lt;dbl&gt; |\n",
       "|---|---|---|---|\n",
       "| 1 | 104 | 113 |  -9 |\n",
       "| 2 | 101 |  91 |  10 |\n",
       "| 3 | 108 | 119 | -11 |\n",
       "| 4 | 122 | 109 |  13 |\n",
       "\n"
      ],
      "text/plain": [
       "  PTS_home PTS_away point_diff\n",
       "1 104      113       -9       \n",
       "2 101       91       10       \n",
       "3 108      119      -11       \n",
       "4 122      109       13       "
      ]
     },
     "metadata": {},
     "output_type": "display_data"
    }
   ],
   "source": [
    "## Dataframe 2\n",
    "# obtaining the point differnce for every game (home team points - away team points)\n",
    "sample_for_mean_diff <- games %>%\n",
    "    filter(!is.na(PTS_home), !is.na(PTS_away)) %>%\n",
    "    summarize(PTS_home = PTS_home, PTS_away = PTS_away, point_diff = PTS_home - PTS_away)\n",
    "\n",
    "# Observing our dataframe\n",
    "head(sample_for_mean_diff, 4)"
   ]
  },
  {
   "cell_type": "markdown",
   "id": "6c06371f-8085-43ab-baee-451d3f13b708",
   "metadata": {},
   "source": [
    "__Explore:__\n",
    "\n",
    "Now that we have our dataframes with columns of interest required for each hypothesis test ready, let's quickly explore our sample!"
   ]
  },
  {
   "cell_type": "code",
   "execution_count": 5,
   "id": "e0fe8666-32c7-4547-93ea-30d56aebfc97",
   "metadata": {},
   "outputs": [
    {
     "data": {
      "image/png": "[encoded data removed]",
      "text/plain": [
       "plot without title"
      ]
     },
     "metadata": {
      "image/png": {
       "height": 360,
       "width": 1020
      }
     },
     "output_type": "display_data"
    }
   ],
   "source": [
    "# To scale our plots\n",
    "options(repr.plot.width=17, repr.plot.height=6, repr.plot.align = \"center\")\n",
    "\n",
    "# Resize and visualize the observed difference in proportion on barplot\n",
    "ggplot(sample_for_prop, aes(x=type, fill=win), fig.align = 'center') +\n",
    "    geom_bar() +  \n",
    "    labs(fill = \"Win or Lose\") +\n",
    "    scale_fill_discrete(labels=c('lose', 'win')) +\n",
    "    ggtitle(\"Proportion of wins and losses at Home and Away\") +\n",
    "    theme(text = element_text(size = 20), plot.title = element_text(hjust = 0.5))"
   ]
  },
  {
   "cell_type": "code",
   "execution_count": 6,
   "id": "af6aa421-bbaf-44f0-a992-3dd7bdef7ed5",
   "metadata": {},
   "outputs": [
    {
     "data": {
      "text/html": [
       "<table class=\"dataframe\">\n",
       "<caption>A tibble: 1 × 1</caption>\n",
       "<thead>\n",
       "\t<tr><th scope=col>obs_diff_in_props</th></tr>\n",
       "\t<tr><th scope=col>&lt;dbl&gt;</th></tr>\n",
       "</thead>\n",
       "<tbody>\n",
       "\t<tr><td>0.1749884</td></tr>\n",
       "</tbody>\n",
       "</table>\n"
      ],
      "text/latex": [
       "A tibble: 1 × 1\n",
       "\\begin{tabular}{l}\n",
       " obs\\_diff\\_in\\_props\\\\\n",
       " <dbl>\\\\\n",
       "\\hline\n",
       "\t 0.1749884\\\\\n",
       "\\end{tabular}\n"
      ],
      "text/markdown": [
       "\n",
       "A tibble: 1 × 1\n",
       "\n",
       "| obs_diff_in_props &lt;dbl&gt; |\n",
       "|---|\n",
       "| 0.1749884 |\n",
       "\n"
      ],
      "text/plain": [
       "  obs_diff_in_props\n",
       "1 0.1749884        "
      ]
     },
     "metadata": {},
     "output_type": "display_data"
    }
   ],
   "source": [
    "# Calculating the observed difference in proportion\n",
    "obs_diff_prop <- sample_for_prop %>% \n",
    "  specify(win ~ type, success = \"1\") %>% \n",
    "  calculate(stat = \"diff in props\", order = c(\"home\", \"away\")) %>%\n",
    "  mutate(obs_diff_in_props = stat) %>% select(obs_diff_in_props)\n",
    "obs_diff_prop"
   ]
  },
  {
   "cell_type": "code",
   "execution_count": 7,
   "id": "56ca6ad5-891d-40ec-a2da-606eb7d04ee6",
   "metadata": {},
   "outputs": [
    {
     "data": {
      "image/png": "[encoded data removed]",
      "text/plain": [
       "plot without title"
      ]
     },
     "metadata": {
      "image/png": {
       "height": 360,
       "width": 1020
      }
     },
     "output_type": "display_data"
    }
   ],
   "source": [
    "# To scale our plots\n",
    "options(repr.plot.width=17, repr.plot.height=6, repr.plot.align = \"center\")\n",
    "\n",
    "# Resize and visualize the observed mean of point difference on histogram\n",
    "ggplot(sample_for_mean_diff, aes(x=point_diff), fig.align = 'center') +\n",
    "    geom_histogram(binwidth=8) + \n",
    "    theme(text = element_text(size = 20), plot.title = element_text(hjust = 0.5)) +\n",
    "    ggtitle(\"Mean of Point Differences (home points - away points)\")\n",
    "    "
   ]
  },
  {
   "cell_type": "code",
   "execution_count": 8,
   "id": "ac8cb23d-5682-4b13-8241-0011e5801784",
   "metadata": {},
   "outputs": [
    {
     "data": {
      "text/html": [
       "<table class=\"dataframe\">\n",
       "<caption>A tibble: 1 × 1</caption>\n",
       "<thead>\n",
       "\t<tr><th scope=col>obs_mean_point_diff</th></tr>\n",
       "\t<tr><th scope=col>&lt;dbl&gt;</th></tr>\n",
       "</thead>\n",
       "<tbody>\n",
       "\t<tr><td>2.811924</td></tr>\n",
       "</tbody>\n",
       "</table>\n"
      ],
      "text/latex": [
       "A tibble: 1 × 1\n",
       "\\begin{tabular}{l}\n",
       " obs\\_mean\\_point\\_diff\\\\\n",
       " <dbl>\\\\\n",
       "\\hline\n",
       "\t 2.811924\\\\\n",
       "\\end{tabular}\n"
      ],
      "text/markdown": [
       "\n",
       "A tibble: 1 × 1\n",
       "\n",
       "| obs_mean_point_diff &lt;dbl&gt; |\n",
       "|---|\n",
       "| 2.811924 |\n",
       "\n"
      ],
      "text/plain": [
       "  obs_mean_point_diff\n",
       "1 2.811924           "
      ]
     },
     "metadata": {},
     "output_type": "display_data"
    }
   ],
   "source": [
    "# Calculating the observed mean of point difference\n",
    "obs_mean_diff <- sample_for_mean_diff %>% \n",
    "  specify(response = point_diff) %>% \n",
    "  calculate(stat = \"mean\") %>%\n",
    "  mutate(obs_mean_point_diff = stat) %>% select(obs_mean_point_diff)\n",
    "obs_mean_diff"
   ]
  },
  {
   "cell_type": "markdown",
   "id": "62f9e2fe-6d8a-4ded-a1ca-8a61d30eebda",
   "metadata": {
    "tags": []
   },
   "source": [
    "We can observe that our sample data of games has about 17.5% higher proportion of winning when being the home team. The barplot depicts this difference as well.\n",
    "\n",
    "$\\hat{p}_{home} - \\hat{p}_{away}=0.175$\n",
    "\n",
    "Also, the mean for the difference in scores (home points - away points) is 2.812, meaning that on average, the home team beats the opponent team by 2.812 extra points. The histogram shows that the center of the distribution is slightly on the positive side of 0.\n",
    "\n",
    " $\\hat{\\mu} = 2.812$  \n",
    " \n",
    "So these sample statics suggesting that there is an advantage when playing a team plays a game in their home court. But is this observed difference real? Or could it be as a result of sampling variation? Our goal is to use hypothesis testing to check whether the data obtained by our sample provides enough evidence against the claim that home court advantage is not real."
   ]
  },
  {
   "cell_type": "markdown",
   "id": "5da8617a-ae52-4913-8f2c-1c460b7db1e2",
   "metadata": {},
   "source": [
    "## <center> Methods & Results"
   ]
  },
  {
   "cell_type": "markdown",
   "id": "d780f4f1-a473-42c9-9dcb-476260a2c4ad",
   "metadata": {},
   "source": [
    "Our goal is to use our sample data of all NBA games from season 2004 to 2020 to understand whether home court advantage is real. Since our sample contains the recording of all the games played in the NBA during this time period, our sample seems to be unbias and representative of the population of all NBA games. Therefore we will be able to make a statistical inference and generalize it to the entire population. We will be using hypothesis testing technique to see if our obtained sample provides enough evidence to support that home court advantage is real. More specifically, we will be doing 2 hypotheses testing. One is about winning proportion when being home vs away. The other one is the mean of point difference. This was suggested by prof Melissa. We will also prespecify our significance level to be 10%, meaning we are willing to have a 10% probability of false rejection if our null hypothesis is true.\n",
    "\n",
    "__More Specifics:__\n",
    "* `set.seed` for reproducibility\n",
    "* set our null and alternative hypotheses:\n",
    "  * For difference in winning proportion:\n",
    "    * $H_0: \\hat{p}_{home} - \\hat{p}_{away}= 0$\n",
    "    * $H_1: \\hat{p}_{home} - \\hat{p}_{away}>= 0$\n",
    "  * For mean of difference in score:\n",
    "    * $H_0: \\hat{\\mu} = 0$\n",
    "    * $H_1: \\hat{\\mu} >= 0$\n",
    "* use `infer` package for hypothesis testing\n",
    "  * `specify` the variable of interest\n",
    "  * `hypothesize` the null\n",
    "  * `generate` replicates (via permute and/or bootsrapping)\n",
    "  * `calculate` summary statistic (null model)\n",
    "* `visualize` the null model along with observed statistics for a visual interpretation\n",
    "* prespecify a significance level, accepting a certain level of type I and type II erors\n",
    "* generate confidence intervals for our confidence level, and find out whether it captures the sample statistics\n",
    "* Accept/Reject our null hypothesis if data provides enough evidence based on the significance level"
   ]
  },
  {
   "cell_type": "code",
   "execution_count": 9,
   "id": "dbbbd6ce-a4ab-4f8e-a250-09edd74f9cde",
   "metadata": {},
   "outputs": [
    {
     "data": {
      "text/html": [
       "<table class=\"dataframe\">\n",
       "<caption>A tibble: 4 × 2</caption>\n",
       "<thead>\n",
       "\t<tr><th scope=col>replicate</th><th scope=col>stat</th></tr>\n",
       "\t<tr><th scope=col>&lt;int&gt;</th><th scope=col>&lt;dbl&gt;</th></tr>\n",
       "</thead>\n",
       "<tbody>\n",
       "\t<tr><td>1</td><td>-0.000775314</td></tr>\n",
       "\t<tr><td>2</td><td>-0.005659792</td></tr>\n",
       "\t<tr><td>3</td><td>-0.009691425</td></tr>\n",
       "\t<tr><td>4</td><td> 0.003721507</td></tr>\n",
       "</tbody>\n",
       "</table>\n"
      ],
      "text/latex": [
       "A tibble: 4 × 2\n",
       "\\begin{tabular}{ll}\n",
       " replicate & stat\\\\\n",
       " <int> & <dbl>\\\\\n",
       "\\hline\n",
       "\t 1 & -0.000775314\\\\\n",
       "\t 2 & -0.005659792\\\\\n",
       "\t 3 & -0.009691425\\\\\n",
       "\t 4 &  0.003721507\\\\\n",
       "\\end{tabular}\n"
      ],
      "text/markdown": [
       "\n",
       "A tibble: 4 × 2\n",
       "\n",
       "| replicate &lt;int&gt; | stat &lt;dbl&gt; |\n",
       "|---|---|\n",
       "| 1 | -0.000775314 |\n",
       "| 2 | -0.005659792 |\n",
       "| 3 | -0.009691425 |\n",
       "| 4 |  0.003721507 |\n",
       "\n"
      ],
      "text/plain": [
       "  replicate stat        \n",
       "1 1         -0.000775314\n",
       "2 2         -0.005659792\n",
       "3 3         -0.009691425\n",
       "4 4          0.003721507"
      ]
     },
     "metadata": {},
     "output_type": "display_data"
    }
   ],
   "source": [
    "set.seed(111)\n",
    "# Hypothesis testing and getting null distribution for difference in winning proportion (p_home_win - P_away_win)\n",
    "null_distribution_prop <- sample_for_prop %>% \n",
    "  specify(formula = win ~ type, success = \"1\") %>% \n",
    "  hypothesize(null = \"independence\") %>% \n",
    "  generate(reps = 200, type = \"permute\") %>%  #TODO: does higher reps work on your computer? My kernel crashes\n",
    "  calculate(stat = \"diff in props\", order = c(\"home\", \"away\"))\n",
    "\n",
    "head(null_distribution_prop, 4)"
   ]
  },
  {
   "cell_type": "code",
   "execution_count": 13,
   "id": "1c903928-bb34-4ad8-987e-b5142cd5f611",
   "metadata": {},
   "outputs": [
    {
     "data": {
      "text/html": [
       "<table class=\"dataframe\">\n",
       "<caption>A tibble: 4 × 2</caption>\n",
       "<thead>\n",
       "\t<tr><th scope=col>replicate</th><th scope=col>stat</th></tr>\n",
       "\t<tr><th scope=col>&lt;int&gt;</th><th scope=col>&lt;dbl&gt;</th></tr>\n",
       "</thead>\n",
       "<tbody>\n",
       "\t<tr><td>1</td><td>-0.04206717</td></tr>\n",
       "\t<tr><td>2</td><td>-0.06347044</td></tr>\n",
       "\t<tr><td>3</td><td>-0.11911896</td></tr>\n",
       "\t<tr><td>4</td><td> 0.03229949</td></tr>\n",
       "</tbody>\n",
       "</table>\n"
      ],
      "text/latex": [
       "A tibble: 4 × 2\n",
       "\\begin{tabular}{ll}\n",
       " replicate & stat\\\\\n",
       " <int> & <dbl>\\\\\n",
       "\\hline\n",
       "\t 1 & -0.04206717\\\\\n",
       "\t 2 & -0.06347044\\\\\n",
       "\t 3 & -0.11911896\\\\\n",
       "\t 4 &  0.03229949\\\\\n",
       "\\end{tabular}\n"
      ],
      "text/markdown": [
       "\n",
       "A tibble: 4 × 2\n",
       "\n",
       "| replicate &lt;int&gt; | stat &lt;dbl&gt; |\n",
       "|---|---|\n",
       "| 1 | -0.04206717 |\n",
       "| 2 | -0.06347044 |\n",
       "| 3 | -0.11911896 |\n",
       "| 4 |  0.03229949 |\n",
       "\n"
      ],
      "text/plain": [
       "  replicate stat       \n",
       "1 1         -0.04206717\n",
       "2 2         -0.06347044\n",
       "3 3         -0.11911896\n",
       "4 4          0.03229949"
      ]
     },
     "metadata": {},
     "output_type": "display_data"
    }
   ],
   "source": [
    "set.seed(111)\n",
    "#  Hypothesis testing and getting null distribution for mean of point difference (home_points - away_points)\n",
    "null_distribution_mean_diff <- sample_for_mean_diff %>% \n",
    "  specify(response = point_diff)  %>% \n",
    "  hypothesize(null = \"point\", mu=0) %>% \n",
    "  generate(reps = 500, type = \"bootstrap\") %>% \n",
    "  calculate(stat = \"mean\")\n",
    "\n",
    "head(null_distribution_mean_diff, 4)"
   ]
  },
  {
   "cell_type": "markdown",
   "id": "216bbf19-292b-4350-ac38-034d430abfc8",
   "metadata": {},
   "source": [
    "#### Note: \n",
    "We used permute for winning proportion, because it resamples by shuffling the Home vs Away values among the observations. In other words, we shuffle the values of our explanatory categorical variable to see if there is any association between this variable and the winning status variable. \n",
    "\n",
    "However, we used bootstrapping for resampling in the case of mean of point difference since there is no explanatory variable to shuffle! It is simply generating resamples of point difference observations under the null hypothesis."
   ]
  },
  {
   "cell_type": "code",
   "execution_count": 11,
   "id": "c68b1b98-09ed-4d34-95e7-19cae540b483",
   "metadata": {},
   "outputs": [
    {
     "name": "stderr",
     "output_type": "stream",
     "text": [
      "Warning message:\n",
      "“Please be cautious in reporting a p-value of 0. This result is an approximation based on the number of `reps` chosen in the `generate()` step. See `?get_p_value()` for more information.”\n"
     ]
    },
    {
     "data": {
      "text/html": [
       "<table class=\"dataframe\">\n",
       "<caption>A tibble: 1 × 1</caption>\n",
       "<thead>\n",
       "\t<tr><th scope=col>p_value</th></tr>\n",
       "\t<tr><th scope=col>&lt;dbl&gt;</th></tr>\n",
       "</thead>\n",
       "<tbody>\n",
       "\t<tr><td>0</td></tr>\n",
       "</tbody>\n",
       "</table>\n"
      ],
      "text/latex": [
       "A tibble: 1 × 1\n",
       "\\begin{tabular}{l}\n",
       " p\\_value\\\\\n",
       " <dbl>\\\\\n",
       "\\hline\n",
       "\t 0\\\\\n",
       "\\end{tabular}\n"
      ],
      "text/markdown": [
       "\n",
       "A tibble: 1 × 1\n",
       "\n",
       "| p_value &lt;dbl&gt; |\n",
       "|---|\n",
       "| 0 |\n",
       "\n"
      ],
      "text/plain": [
       "  p_value\n",
       "1 0      "
      ]
     },
     "metadata": {},
     "output_type": "display_data"
    },
    {
     "name": "stderr",
     "output_type": "stream",
     "text": [
      "Warning message:\n",
      "“Please be cautious in reporting a p-value of 0. This result is an approximation based on the number of `reps` chosen in the `generate()` step. See `?get_p_value()` for more information.”\n"
     ]
    },
    {
     "data": {
      "text/html": [
       "<table class=\"dataframe\">\n",
       "<caption>A tibble: 1 × 1</caption>\n",
       "<thead>\n",
       "\t<tr><th scope=col>p_value</th></tr>\n",
       "\t<tr><th scope=col>&lt;dbl&gt;</th></tr>\n",
       "</thead>\n",
       "<tbody>\n",
       "\t<tr><td>0</td></tr>\n",
       "</tbody>\n",
       "</table>\n"
      ],
      "text/latex": [
       "A tibble: 1 × 1\n",
       "\\begin{tabular}{l}\n",
       " p\\_value\\\\\n",
       " <dbl>\\\\\n",
       "\\hline\n",
       "\t 0\\\\\n",
       "\\end{tabular}\n"
      ],
      "text/markdown": [
       "\n",
       "A tibble: 1 × 1\n",
       "\n",
       "| p_value &lt;dbl&gt; |\n",
       "|---|\n",
       "| 0 |\n",
       "\n"
      ],
      "text/plain": [
       "  p_value\n",
       "1 0      "
      ]
     },
     "metadata": {},
     "output_type": "display_data"
    }
   ],
   "source": [
    "# Calculating p-value: Gives us the probability of getting a test statistic as extreme or  \n",
    "#                      more extreme than the observed test statistic assuming H0 is true\n",
    "# NOTE: p-value is measured based on the observed test-statistic which we have previously calculated\n",
    "null_distribution_prop %>% get_p_value(obs_stat = obs_diff_prop, direction= \"right\")\n",
    "null_distribution_mean_diff %>% get_p_value(obs_stat = obs_mean_diff, direction= \"right\")"
   ]
  },
  {
   "cell_type": "code",
   "execution_count": 14,
   "id": "7743995d-8a23-4075-8d02-6c85ea1a66c8",
   "metadata": {},
   "outputs": [
    {
     "data": {
      "text/html": [
       "<table class=\"dataframe\">\n",
       "<caption>A tibble: 1 × 2</caption>\n",
       "<thead>\n",
       "\t<tr><th scope=col>lower_ci</th><th scope=col>upper_ci</th></tr>\n",
       "\t<tr><th scope=col>&lt;dbl&gt;</th><th scope=col>&lt;dbl&gt;</th></tr>\n",
       "</thead>\n",
       "<tbody>\n",
       "\t<tr><td>-0.006911924</td><td>0.00682664</td></tr>\n",
       "</tbody>\n",
       "</table>\n"
      ],
      "text/latex": [
       "A tibble: 1 × 2\n",
       "\\begin{tabular}{ll}\n",
       " lower\\_ci & upper\\_ci\\\\\n",
       " <dbl> & <dbl>\\\\\n",
       "\\hline\n",
       "\t -0.006911924 & 0.00682664\\\\\n",
       "\\end{tabular}\n"
      ],
      "text/markdown": [
       "\n",
       "A tibble: 1 × 2\n",
       "\n",
       "| lower_ci &lt;dbl&gt; | upper_ci &lt;dbl&gt; |\n",
       "|---|---|\n",
       "| -0.006911924 | 0.00682664 |\n",
       "\n"
      ],
      "text/plain": [
       "  lower_ci     upper_ci  \n",
       "1 -0.006911924 0.00682664"
      ]
     },
     "metadata": {},
     "output_type": "display_data"
    },
    {
     "data": {
      "text/html": [
       "<table class=\"dataframe\">\n",
       "<caption>A tibble: 1 × 2</caption>\n",
       "<thead>\n",
       "\t<tr><th scope=col>lower_ci</th><th scope=col>upper_ci</th></tr>\n",
       "\t<tr><th scope=col>&lt;dbl&gt;</th><th scope=col>&lt;dbl&gt;</th></tr>\n",
       "</thead>\n",
       "<tbody>\n",
       "\t<tr><td>-0.1425108</td><td>0.1412597</td></tr>\n",
       "</tbody>\n",
       "</table>\n"
      ],
      "text/latex": [
       "A tibble: 1 × 2\n",
       "\\begin{tabular}{ll}\n",
       " lower\\_ci & upper\\_ci\\\\\n",
       " <dbl> & <dbl>\\\\\n",
       "\\hline\n",
       "\t -0.1425108 & 0.1412597\\\\\n",
       "\\end{tabular}\n"
      ],
      "text/markdown": [
       "\n",
       "A tibble: 1 × 2\n",
       "\n",
       "| lower_ci &lt;dbl&gt; | upper_ci &lt;dbl&gt; |\n",
       "|---|---|\n",
       "| -0.1425108 | 0.1412597 |\n",
       "\n"
      ],
      "text/plain": [
       "  lower_ci   upper_ci \n",
       "1 -0.1425108 0.1412597"
      ]
     },
     "metadata": {},
     "output_type": "display_data"
    }
   ],
   "source": [
    "# get CI with 90% confidence level two-sided, meaning 5% significance level for 1-sided right-tailed test\n",
    "diff_in_props_ci <- null_distribution_prop %>% get_ci(level = 0.90, type = \"percentile\")\n",
    "Mean_point_diff_ci <- null_distribution_mean_diff %>% get_ci(level = 0.90, type = \"percentile\")\n",
    "\n",
    "diff_in_props_ci\n",
    "Mean_point_diff_ci"
   ]
  },
  {
   "cell_type": "code",
   "execution_count": 14,
   "id": "8aca7ba5-f1cf-40be-a025-7697fe5abfe2",
   "metadata": {},
   "outputs": [
    {
     "data": {
      "image/png": "[encoded data removed]",
      "text/plain": [
       "plot without title"
      ]
     },
     "metadata": {
      "image/png": {
       "height": 360,
       "width": 1020
      }
     },
     "output_type": "display_data"
    }
   ],
   "source": [
    "# To scale our plots\n",
    "options(repr.plot.width=17, repr.plot.height=6, repr.plot.align = \"center\")\n",
    "\n",
    "# Visualize the null distributions along with p-value and 90% CI\n",
    "visualize(null_distribution_prop, bins = 10) + \n",
    "    shade_p_value(obs_stat = obs_diff_prop, direction = \"right\") +\n",
    "    shade_ci(endpoints = diff_in_props_ci, fill = NULL) + \n",
    "    labs(title=\"Point Difference Null Model\", x=\"Difference in Winning Proportion (P_home - P-away)\") +\n",
    "    theme(text = element_text(size = 20), plot.title = element_text(hjust = 0.5))\n",
    "    "
   ]
  },
  {
   "cell_type": "code",
   "execution_count": 15,
   "id": "887fd685-fa76-4109-85a9-964cd42515cb",
   "metadata": {},
   "outputs": [
    {
     "data": {
      "image/png": "[encoded data removed]",
      "text/plain": [
       "plot without title"
      ]
     },
     "metadata": {
      "image/png": {
       "height": 360,
       "width": 1020
      }
     },
     "output_type": "display_data"
    }
   ],
   "source": [
    "# To scale our plots\n",
    "options(repr.plot.width=17, repr.plot.height=6, repr.plot.align = \"center\")\n",
    "\n",
    "# Visualize the null distributions along with p-value and 90% CI\n",
    "\n",
    "visualize(null_distribution_mean_diff, bins = 10) + \n",
    "    shade_p_value(obs_stat = obs_mean_diff, direction = \"right\") +\n",
    "    shade_ci(endpoints = Mean_point_diff_ci, fill = NULL) + \n",
    "    labs(title=\"Point Difference Null Model\", x=\"Mean Point Difference (Home_PTS - Away_PTS)\") + \n",
    "    theme(text = element_text(size = 20), plot.title = element_text(hjust = 0.5))\n",
    "    fig.align = 'center'"
   ]
  },
  {
   "cell_type": "markdown",
   "id": "c553d63b-8f68-4acd-9fcf-4b0e515beebe",
   "metadata": {},
   "source": [
    "## <center> Discussion:"
   ]
  },
  {
   "cell_type": "markdown",
   "id": "958ad370-5898-4ead-9431-82346e1fd409",
   "metadata": {},
   "source": [
    "From our findings, we conclude that there is a significant difference between our null hypotheses and our observed test statistics, meaning this difference is most likely not due to sample variability, and so we reject the null hypotheses in favor of the alternative. Therefore, we believe that the proportion of winning is higher at home than away, and the mean point difference (Home_PTS - Away_PTS) is higher than 0. This is vivid from both the p-values as well as our 90% confidence intervals.\n",
    "\n",
    "Obtaining a p-value of 0 indicates there not even a single resample that was as extreme as the observed statistic. Having p-value < significance level for both hypotheses indicates rejection of H0. Even at lower confidence levels than 10%, we still would reach the same conclusion. As a result of rejection, we are only prone to making Type I error, which is nearly impossible because our sample is representative of the population and our p-value was 0, meaning there is 0 probability of getting a test statistic as extreme as the observed statistic. This evidence is enough to reject the null hypothesis and conclude the alternative as a result of the significant difference of our observed test statistics.\n",
    "\n",
    "In addition, we obtained the corresponding 90% confidence level Confidence Intervals for our null models as well. In both cases, our observed test statistics fall much higher than the upper quantile of our intervals as can be seen from the graphs. More specifically, the test statistic for winning proportion is 0.175 which is many multiples higher than the upper quantile of the confidence interval is about 0.007. Similarly, the test statistic for mean of point difference being 2.812 is many multiples higher than 0.141 which is the upper quantile of the confidence interval. Our intervals not capturing the observed test statistics is another indication that these observed differences are real!\n",
    "\n",
    "Before this research, we expected to discover that playing as the home team is advantageous due to many factors such as comfort, stress levels, and other psychological effects. Our personal experience of playing sports games has also lead us to this belief as well, so our findings were not very surprising.\n",
    "\n",
    "Our findings can impact how the game is played. Discovering that the home team has an advantage, the game would be unbalanced for the opponent as the morale of the players would be affected based on where they are playing. Consequently, individual players’ performance may be negatively impacted. Our discovery could also lead to a change in how fixtures are set to regulate a balance to produce more even odds of winning for both teams. Adjustments in the playoff rules could also make matchups more competitive in the standpoint of pure skill rather than the sole factor of having home court advantage. Even if the rules remain, this discovery could be useful for further research into the causation of home court advantage, and teams and the NBA can invest more effort into eliminating the causing factors. In addition, teams can plan ahead for the disadvantaged away games by developing new strategies to increase their performance.\n",
    "\n",
    "Here are some future questions (or research questions) that arise from our discovery:\n",
    "* What factors are most influential that lead to home court advantage?\n",
    "* Does distance traveled for a game increase the effect of playing away? \n",
    "* Do experienced players feel less of an impact from away court disatvantage or more?\n"
   ]
  },
  {
   "cell_type": "markdown",
   "id": "6a756881-5b96-4ae8-ba1b-7d3a47849ee8",
   "metadata": {},
   "source": [
    "## <center> Citation"
   ]
  },
  {
   "cell_type": "markdown",
   "id": "20fcc2ae-e7d7-47db-83a7-c69c3a8f8cb6",
   "metadata": {},
   "source": [
    "1. Beck, Howard. “The Truth about NBA Home-Court Advantage.” Bleacher Report, Bleacher Report, 18 Aug. 2020, https://bleacherreport.com/articles/2905080-the-truth-about-nba-home-court-advantage#:~:text=The%20NBA%20has%20the%20widest,of%20all%20games%20since%201984\\. "
   ]
  },
  {
   "cell_type": "markdown",
   "id": "c14d2bd0-758a-46b8-86e0-aeb161fa4fc4",
   "metadata": {},
   "source": [
    "2. Lauga, Nathan. “NBA Games Data.” Kaggle, 13 Mar. 2022, https://www.kaggle.com/datasets/nathanlauga/nba-games?resource=download. "
   ]
  },
  {
   "cell_type": "markdown",
   "id": "51c6723e-14b5-4146-a56a-f521db6db4d6",
   "metadata": {},
   "source": [
    "3. “Hypothesis Testing.” Statistics How To, 25 June 2022, https://www.statisticshowto.com/probability-and-statistics/hypothesis-testing/. "
   ]
  }
 ],
 "metadata": {
  "kernelspec": {
   "display_name": "R",
   "language": "R",
   "name": "ir"
  },
  "language_info": {
   "codemirror_mode": "r",
   "file_extension": ".r",
   "mimetype": "text/x-r-source",
   "name": "R",
   "pygments_lexer": "r",
   "version": "4.0.5"
  }
 },
 "nbformat": 4,
 "nbformat_minor": 5
}
